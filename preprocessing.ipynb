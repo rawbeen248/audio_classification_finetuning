{
 "cells": [
  {
   "cell_type": "code",
   "execution_count": 2,
   "metadata": {},
   "outputs": [
    {
     "name": "stdout",
     "output_type": "stream",
     "text": [
      "Copied 400 animal sound files to animals_sounds\n"
     ]
    }
   ],
   "source": [
    "import pandas as pd\n",
    "import os\n",
    "import shutil\n",
    "\n",
    "# Load the sounds\n",
    "all_sounds = 'environmental_sounds'\n",
    "audio_dir = os.path.join(all_sounds)\n",
    "\n",
    "# Load CSV file\n",
    "df = pd.read_csv(\"sounds_labels.csv\")\n",
    "\n",
    "# Filter based on your categories\n",
    "categories = ['dog', 'rooster', 'pig', 'cow', 'frog', 'cat', 'hen', 'insects', 'sheep', 'crow']\n",
    "filtered_df = df[df['category'].isin(categories)]\n",
    "\n",
    "# New directory for animal sounds\n",
    "animal_sounds_dir = 'animals_sounds'\n",
    "os.makedirs(animal_sounds_dir, exist_ok=True)\n",
    "\n",
    "# Copy the filtered audio files to the new directory\n",
    "for _, row in filtered_df.iterrows():\n",
    "    source_path = os.path.join(audio_dir, row['filename'])\n",
    "    destination_path = os.path.join(animal_sounds_dir, row['filename'])\n",
    "    shutil.copy2(source_path, destination_path)\n",
    "\n",
    "print(f\"Copied {len(filtered_df)} animal sound files to {animal_sounds_dir}\")\n"
   ]
  },
  {
   "cell_type": "code",
   "execution_count": 3,
   "metadata": {},
   "outputs": [
    {
     "name": "stdout",
     "output_type": "stream",
     "text": [
      "Saved filtered CSV to animals_sounds\\animals_meta.csv\n"
     ]
    }
   ],
   "source": [
    "filtered_df_animals_only = filtered_df[['filename', 'category']]\n",
    "\n",
    "# Save the new dataframe to a new CSV file in the new directory\n",
    "filtered_df_animals_only.to_csv(os.path.join(animal_sounds_dir, 'animals_sounds.csv'), index=False)\n",
    "\n",
    "print(f\"Saved filtered CSV to {os.path.join(animal_sounds_dir, 'animals_meta.csv')}\")\n"
   ]
  },
  {
   "cell_type": "code",
   "execution_count": null,
   "metadata": {},
   "outputs": [],
   "source": []
  }
 ],
 "metadata": {
  "kernelspec": {
   "display_name": "Python 3",
   "language": "python",
   "name": "python3"
  },
  "language_info": {
   "codemirror_mode": {
    "name": "ipython",
    "version": 3
   },
   "file_extension": ".py",
   "mimetype": "text/x-python",
   "name": "python",
   "nbconvert_exporter": "python",
   "pygments_lexer": "ipython3",
   "version": "3.11.5"
  },
  "orig_nbformat": 4
 },
 "nbformat": 4,
 "nbformat_minor": 2
}
